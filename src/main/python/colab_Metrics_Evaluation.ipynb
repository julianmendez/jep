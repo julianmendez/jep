{
  "nbformat": 4,
  "nbformat_minor": 0,
  "metadata": {
    "colab": {
      "name": "colab_Metrics_Evaluation.ipynb",
      "provenance": [],
      "collapsed_sections": []
    },
    "kernelspec": {
      "name": "python3",
      "display_name": "Python 3"
    },
    "language_info": {
      "name": "python"
    },
    "accelerator": "GPU",
    "widgets": {
      "application/vnd.jupyter.widget-state+json": {
        "2d68b1bedfd9463b96f6357e4a91c752": {
          "model_module": "@jupyter-widgets/controls",
          "model_name": "HBoxModel",
          "state": {
            "_view_name": "HBoxView",
            "_dom_classes": [],
            "_model_name": "HBoxModel",
            "_view_module": "@jupyter-widgets/controls",
            "_model_module_version": "1.5.0",
            "_view_count": null,
            "_view_module_version": "1.5.0",
            "box_style": "",
            "layout": "IPY_MODEL_8bb2305efdf54a73962e9ba23ea9b1b0",
            "_model_module": "@jupyter-widgets/controls",
            "children": [
              "IPY_MODEL_e95c5e30d17d48ce80413f3948ac2922",
              "IPY_MODEL_6a2e0579612c4d8b95a08a86170dc8f7"
            ]
          }
        },
        "8bb2305efdf54a73962e9ba23ea9b1b0": {
          "model_module": "@jupyter-widgets/base",
          "model_name": "LayoutModel",
          "state": {
            "_view_name": "LayoutView",
            "grid_template_rows": null,
            "right": null,
            "justify_content": null,
            "_view_module": "@jupyter-widgets/base",
            "overflow": null,
            "_model_module_version": "1.2.0",
            "_view_count": null,
            "flex_flow": null,
            "width": null,
            "min_width": null,
            "border": null,
            "align_items": null,
            "bottom": null,
            "_model_module": "@jupyter-widgets/base",
            "top": null,
            "grid_column": null,
            "overflow_y": null,
            "overflow_x": null,
            "grid_auto_flow": null,
            "grid_area": null,
            "grid_template_columns": null,
            "flex": null,
            "_model_name": "LayoutModel",
            "justify_items": null,
            "grid_row": null,
            "max_height": null,
            "align_content": null,
            "visibility": null,
            "align_self": null,
            "height": null,
            "min_height": null,
            "padding": null,
            "grid_auto_rows": null,
            "grid_gap": null,
            "max_width": null,
            "order": null,
            "_view_module_version": "1.2.0",
            "grid_template_areas": null,
            "object_position": null,
            "object_fit": null,
            "grid_auto_columns": null,
            "margin": null,
            "display": null,
            "left": null
          }
        },
        "e95c5e30d17d48ce80413f3948ac2922": {
          "model_module": "@jupyter-widgets/controls",
          "model_name": "FloatProgressModel",
          "state": {
            "_view_name": "ProgressView",
            "style": "IPY_MODEL_551aed0db220422d999450dd63b8f391",
            "_dom_classes": [],
            "description": "100%",
            "_model_name": "FloatProgressModel",
            "bar_style": "success",
            "max": 286,
            "_view_module": "@jupyter-widgets/controls",
            "_model_module_version": "1.5.0",
            "value": 286,
            "_view_count": null,
            "_view_module_version": "1.5.0",
            "orientation": "horizontal",
            "min": 0,
            "description_tooltip": null,
            "_model_module": "@jupyter-widgets/controls",
            "layout": "IPY_MODEL_8e3e4daeebe64be9a512fa666a35f13c"
          }
        },
        "6a2e0579612c4d8b95a08a86170dc8f7": {
          "model_module": "@jupyter-widgets/controls",
          "model_name": "HTMLModel",
          "state": {
            "_view_name": "HTMLView",
            "style": "IPY_MODEL_aa69a93cc95543c58945135dfa540506",
            "_dom_classes": [],
            "description": "",
            "_model_name": "HTMLModel",
            "placeholder": "​",
            "_view_module": "@jupyter-widgets/controls",
            "_model_module_version": "1.5.0",
            "value": " 286/286 [00:41&lt;00:00,  6.85it/s]",
            "_view_count": null,
            "_view_module_version": "1.5.0",
            "description_tooltip": null,
            "_model_module": "@jupyter-widgets/controls",
            "layout": "IPY_MODEL_3b1c6fc453e245e596059b8bc9643d00"
          }
        },
        "551aed0db220422d999450dd63b8f391": {
          "model_module": "@jupyter-widgets/controls",
          "model_name": "ProgressStyleModel",
          "state": {
            "_view_name": "StyleView",
            "_model_name": "ProgressStyleModel",
            "description_width": "initial",
            "_view_module": "@jupyter-widgets/base",
            "_model_module_version": "1.5.0",
            "_view_count": null,
            "_view_module_version": "1.2.0",
            "bar_color": null,
            "_model_module": "@jupyter-widgets/controls"
          }
        },
        "8e3e4daeebe64be9a512fa666a35f13c": {
          "model_module": "@jupyter-widgets/base",
          "model_name": "LayoutModel",
          "state": {
            "_view_name": "LayoutView",
            "grid_template_rows": null,
            "right": null,
            "justify_content": null,
            "_view_module": "@jupyter-widgets/base",
            "overflow": null,
            "_model_module_version": "1.2.0",
            "_view_count": null,
            "flex_flow": null,
            "width": null,
            "min_width": null,
            "border": null,
            "align_items": null,
            "bottom": null,
            "_model_module": "@jupyter-widgets/base",
            "top": null,
            "grid_column": null,
            "overflow_y": null,
            "overflow_x": null,
            "grid_auto_flow": null,
            "grid_area": null,
            "grid_template_columns": null,
            "flex": null,
            "_model_name": "LayoutModel",
            "justify_items": null,
            "grid_row": null,
            "max_height": null,
            "align_content": null,
            "visibility": null,
            "align_self": null,
            "height": null,
            "min_height": null,
            "padding": null,
            "grid_auto_rows": null,
            "grid_gap": null,
            "max_width": null,
            "order": null,
            "_view_module_version": "1.2.0",
            "grid_template_areas": null,
            "object_position": null,
            "object_fit": null,
            "grid_auto_columns": null,
            "margin": null,
            "display": null,
            "left": null
          }
        },
        "aa69a93cc95543c58945135dfa540506": {
          "model_module": "@jupyter-widgets/controls",
          "model_name": "DescriptionStyleModel",
          "state": {
            "_view_name": "StyleView",
            "_model_name": "DescriptionStyleModel",
            "description_width": "",
            "_view_module": "@jupyter-widgets/base",
            "_model_module_version": "1.5.0",
            "_view_count": null,
            "_view_module_version": "1.2.0",
            "_model_module": "@jupyter-widgets/controls"
          }
        },
        "3b1c6fc453e245e596059b8bc9643d00": {
          "model_module": "@jupyter-widgets/base",
          "model_name": "LayoutModel",
          "state": {
            "_view_name": "LayoutView",
            "grid_template_rows": null,
            "right": null,
            "justify_content": null,
            "_view_module": "@jupyter-widgets/base",
            "overflow": null,
            "_model_module_version": "1.2.0",
            "_view_count": null,
            "flex_flow": null,
            "width": null,
            "min_width": null,
            "border": null,
            "align_items": null,
            "bottom": null,
            "_model_module": "@jupyter-widgets/base",
            "top": null,
            "grid_column": null,
            "overflow_y": null,
            "overflow_x": null,
            "grid_auto_flow": null,
            "grid_area": null,
            "grid_template_columns": null,
            "flex": null,
            "_model_name": "LayoutModel",
            "justify_items": null,
            "grid_row": null,
            "max_height": null,
            "align_content": null,
            "visibility": null,
            "align_self": null,
            "height": null,
            "min_height": null,
            "padding": null,
            "grid_auto_rows": null,
            "grid_gap": null,
            "max_width": null,
            "order": null,
            "_view_module_version": "1.2.0",
            "grid_template_areas": null,
            "object_position": null,
            "object_fit": null,
            "grid_auto_columns": null,
            "margin": null,
            "display": null,
            "left": null
          }
        },
        "ed84978acec149609e4f1c775afac1ce": {
          "model_module": "@jupyter-widgets/controls",
          "model_name": "HBoxModel",
          "state": {
            "_view_name": "HBoxView",
            "_dom_classes": [],
            "_model_name": "HBoxModel",
            "_view_module": "@jupyter-widgets/controls",
            "_model_module_version": "1.5.0",
            "_view_count": null,
            "_view_module_version": "1.5.0",
            "box_style": "",
            "layout": "IPY_MODEL_461767ed1a094996aff6b3f57f9fa38d",
            "_model_module": "@jupyter-widgets/controls",
            "children": [
              "IPY_MODEL_09ab92182b634be29388b2ecc37931fa",
              "IPY_MODEL_1fb6fc1325934cfcb8393c339828061b"
            ]
          }
        },
        "461767ed1a094996aff6b3f57f9fa38d": {
          "model_module": "@jupyter-widgets/base",
          "model_name": "LayoutModel",
          "state": {
            "_view_name": "LayoutView",
            "grid_template_rows": null,
            "right": null,
            "justify_content": null,
            "_view_module": "@jupyter-widgets/base",
            "overflow": null,
            "_model_module_version": "1.2.0",
            "_view_count": null,
            "flex_flow": null,
            "width": null,
            "min_width": null,
            "border": null,
            "align_items": null,
            "bottom": null,
            "_model_module": "@jupyter-widgets/base",
            "top": null,
            "grid_column": null,
            "overflow_y": null,
            "overflow_x": null,
            "grid_auto_flow": null,
            "grid_area": null,
            "grid_template_columns": null,
            "flex": null,
            "_model_name": "LayoutModel",
            "justify_items": null,
            "grid_row": null,
            "max_height": null,
            "align_content": null,
            "visibility": null,
            "align_self": null,
            "height": null,
            "min_height": null,
            "padding": null,
            "grid_auto_rows": null,
            "grid_gap": null,
            "max_width": null,
            "order": null,
            "_view_module_version": "1.2.0",
            "grid_template_areas": null,
            "object_position": null,
            "object_fit": null,
            "grid_auto_columns": null,
            "margin": null,
            "display": null,
            "left": null
          }
        },
        "09ab92182b634be29388b2ecc37931fa": {
          "model_module": "@jupyter-widgets/controls",
          "model_name": "FloatProgressModel",
          "state": {
            "_view_name": "ProgressView",
            "style": "IPY_MODEL_ec8846e6024c4b358beb05c0e9c49714",
            "_dom_classes": [],
            "description": "100%",
            "_model_name": "FloatProgressModel",
            "bar_style": "success",
            "max": 286,
            "_view_module": "@jupyter-widgets/controls",
            "_model_module_version": "1.5.0",
            "value": 286,
            "_view_count": null,
            "_view_module_version": "1.5.0",
            "orientation": "horizontal",
            "min": 0,
            "description_tooltip": null,
            "_model_module": "@jupyter-widgets/controls",
            "layout": "IPY_MODEL_98b49866a769492984a473ff5411435e"
          }
        },
        "1fb6fc1325934cfcb8393c339828061b": {
          "model_module": "@jupyter-widgets/controls",
          "model_name": "HTMLModel",
          "state": {
            "_view_name": "HTMLView",
            "style": "IPY_MODEL_a56e9aade9f1465eb64da8b00e8544a7",
            "_dom_classes": [],
            "description": "",
            "_model_name": "HTMLModel",
            "placeholder": "​",
            "_view_module": "@jupyter-widgets/controls",
            "_model_module_version": "1.5.0",
            "value": " 286/286 [00:24&lt;00:00, 11.69it/s]",
            "_view_count": null,
            "_view_module_version": "1.5.0",
            "description_tooltip": null,
            "_model_module": "@jupyter-widgets/controls",
            "layout": "IPY_MODEL_5c230ea86c0d4de2870e76e775098cd3"
          }
        },
        "ec8846e6024c4b358beb05c0e9c49714": {
          "model_module": "@jupyter-widgets/controls",
          "model_name": "ProgressStyleModel",
          "state": {
            "_view_name": "StyleView",
            "_model_name": "ProgressStyleModel",
            "description_width": "initial",
            "_view_module": "@jupyter-widgets/base",
            "_model_module_version": "1.5.0",
            "_view_count": null,
            "_view_module_version": "1.2.0",
            "bar_color": null,
            "_model_module": "@jupyter-widgets/controls"
          }
        },
        "98b49866a769492984a473ff5411435e": {
          "model_module": "@jupyter-widgets/base",
          "model_name": "LayoutModel",
          "state": {
            "_view_name": "LayoutView",
            "grid_template_rows": null,
            "right": null,
            "justify_content": null,
            "_view_module": "@jupyter-widgets/base",
            "overflow": null,
            "_model_module_version": "1.2.0",
            "_view_count": null,
            "flex_flow": null,
            "width": null,
            "min_width": null,
            "border": null,
            "align_items": null,
            "bottom": null,
            "_model_module": "@jupyter-widgets/base",
            "top": null,
            "grid_column": null,
            "overflow_y": null,
            "overflow_x": null,
            "grid_auto_flow": null,
            "grid_area": null,
            "grid_template_columns": null,
            "flex": null,
            "_model_name": "LayoutModel",
            "justify_items": null,
            "grid_row": null,
            "max_height": null,
            "align_content": null,
            "visibility": null,
            "align_self": null,
            "height": null,
            "min_height": null,
            "padding": null,
            "grid_auto_rows": null,
            "grid_gap": null,
            "max_width": null,
            "order": null,
            "_view_module_version": "1.2.0",
            "grid_template_areas": null,
            "object_position": null,
            "object_fit": null,
            "grid_auto_columns": null,
            "margin": null,
            "display": null,
            "left": null
          }
        },
        "a56e9aade9f1465eb64da8b00e8544a7": {
          "model_module": "@jupyter-widgets/controls",
          "model_name": "DescriptionStyleModel",
          "state": {
            "_view_name": "StyleView",
            "_model_name": "DescriptionStyleModel",
            "description_width": "",
            "_view_module": "@jupyter-widgets/base",
            "_model_module_version": "1.5.0",
            "_view_count": null,
            "_view_module_version": "1.2.0",
            "_model_module": "@jupyter-widgets/controls"
          }
        },
        "5c230ea86c0d4de2870e76e775098cd3": {
          "model_module": "@jupyter-widgets/base",
          "model_name": "LayoutModel",
          "state": {
            "_view_name": "LayoutView",
            "grid_template_rows": null,
            "right": null,
            "justify_content": null,
            "_view_module": "@jupyter-widgets/base",
            "overflow": null,
            "_model_module_version": "1.2.0",
            "_view_count": null,
            "flex_flow": null,
            "width": null,
            "min_width": null,
            "border": null,
            "align_items": null,
            "bottom": null,
            "_model_module": "@jupyter-widgets/base",
            "top": null,
            "grid_column": null,
            "overflow_y": null,
            "overflow_x": null,
            "grid_auto_flow": null,
            "grid_area": null,
            "grid_template_columns": null,
            "flex": null,
            "_model_name": "LayoutModel",
            "justify_items": null,
            "grid_row": null,
            "max_height": null,
            "align_content": null,
            "visibility": null,
            "align_self": null,
            "height": null,
            "min_height": null,
            "padding": null,
            "grid_auto_rows": null,
            "grid_gap": null,
            "max_width": null,
            "order": null,
            "_view_module_version": "1.2.0",
            "grid_template_areas": null,
            "object_position": null,
            "object_fit": null,
            "grid_auto_columns": null,
            "margin": null,
            "display": null,
            "left": null
          }
        },
        "f2babe8fb46a457689564d3e3ed44775": {
          "model_module": "@jupyter-widgets/controls",
          "model_name": "HBoxModel",
          "state": {
            "_view_name": "HBoxView",
            "_dom_classes": [],
            "_model_name": "HBoxModel",
            "_view_module": "@jupyter-widgets/controls",
            "_model_module_version": "1.5.0",
            "_view_count": null,
            "_view_module_version": "1.5.0",
            "box_style": "",
            "layout": "IPY_MODEL_edbd8af922a345cca06deae2a8f64fbf",
            "_model_module": "@jupyter-widgets/controls",
            "children": [
              "IPY_MODEL_575c6629aa4440ebb290854e4924d48f",
              "IPY_MODEL_ebfc3ee447cd4521827ebe4a24e1f5c0"
            ]
          }
        },
        "edbd8af922a345cca06deae2a8f64fbf": {
          "model_module": "@jupyter-widgets/base",
          "model_name": "LayoutModel",
          "state": {
            "_view_name": "LayoutView",
            "grid_template_rows": null,
            "right": null,
            "justify_content": null,
            "_view_module": "@jupyter-widgets/base",
            "overflow": null,
            "_model_module_version": "1.2.0",
            "_view_count": null,
            "flex_flow": null,
            "width": null,
            "min_width": null,
            "border": null,
            "align_items": null,
            "bottom": null,
            "_model_module": "@jupyter-widgets/base",
            "top": null,
            "grid_column": null,
            "overflow_y": null,
            "overflow_x": null,
            "grid_auto_flow": null,
            "grid_area": null,
            "grid_template_columns": null,
            "flex": null,
            "_model_name": "LayoutModel",
            "justify_items": null,
            "grid_row": null,
            "max_height": null,
            "align_content": null,
            "visibility": null,
            "align_self": null,
            "height": null,
            "min_height": null,
            "padding": null,
            "grid_auto_rows": null,
            "grid_gap": null,
            "max_width": null,
            "order": null,
            "_view_module_version": "1.2.0",
            "grid_template_areas": null,
            "object_position": null,
            "object_fit": null,
            "grid_auto_columns": null,
            "margin": null,
            "display": null,
            "left": null
          }
        },
        "575c6629aa4440ebb290854e4924d48f": {
          "model_module": "@jupyter-widgets/controls",
          "model_name": "FloatProgressModel",
          "state": {
            "_view_name": "ProgressView",
            "style": "IPY_MODEL_52be4836a11b45e9aac8496ed5d5e5f0",
            "_dom_classes": [],
            "description": "100%",
            "_model_name": "FloatProgressModel",
            "bar_style": "success",
            "max": 704,
            "_view_module": "@jupyter-widgets/controls",
            "_model_module_version": "1.5.0",
            "value": 704,
            "_view_count": null,
            "_view_module_version": "1.5.0",
            "orientation": "horizontal",
            "min": 0,
            "description_tooltip": null,
            "_model_module": "@jupyter-widgets/controls",
            "layout": "IPY_MODEL_faa964cb999141a4aa37b85bd2d5c422"
          }
        },
        "ebfc3ee447cd4521827ebe4a24e1f5c0": {
          "model_module": "@jupyter-widgets/controls",
          "model_name": "HTMLModel",
          "state": {
            "_view_name": "HTMLView",
            "style": "IPY_MODEL_9dd65dfeb73e4a0393ac9a4e3dbb23a3",
            "_dom_classes": [],
            "description": "",
            "_model_name": "HTMLModel",
            "placeholder": "​",
            "_view_module": "@jupyter-widgets/controls",
            "_model_module_version": "1.5.0",
            "value": " 704/704 [33:12&lt;00:00,  2.83s/it]",
            "_view_count": null,
            "_view_module_version": "1.5.0",
            "description_tooltip": null,
            "_model_module": "@jupyter-widgets/controls",
            "layout": "IPY_MODEL_429ca326e19e41d1887a9ee9cb999852"
          }
        },
        "52be4836a11b45e9aac8496ed5d5e5f0": {
          "model_module": "@jupyter-widgets/controls",
          "model_name": "ProgressStyleModel",
          "state": {
            "_view_name": "StyleView",
            "_model_name": "ProgressStyleModel",
            "description_width": "initial",
            "_view_module": "@jupyter-widgets/base",
            "_model_module_version": "1.5.0",
            "_view_count": null,
            "_view_module_version": "1.2.0",
            "bar_color": null,
            "_model_module": "@jupyter-widgets/controls"
          }
        },
        "faa964cb999141a4aa37b85bd2d5c422": {
          "model_module": "@jupyter-widgets/base",
          "model_name": "LayoutModel",
          "state": {
            "_view_name": "LayoutView",
            "grid_template_rows": null,
            "right": null,
            "justify_content": null,
            "_view_module": "@jupyter-widgets/base",
            "overflow": null,
            "_model_module_version": "1.2.0",
            "_view_count": null,
            "flex_flow": null,
            "width": null,
            "min_width": null,
            "border": null,
            "align_items": null,
            "bottom": null,
            "_model_module": "@jupyter-widgets/base",
            "top": null,
            "grid_column": null,
            "overflow_y": null,
            "overflow_x": null,
            "grid_auto_flow": null,
            "grid_area": null,
            "grid_template_columns": null,
            "flex": null,
            "_model_name": "LayoutModel",
            "justify_items": null,
            "grid_row": null,
            "max_height": null,
            "align_content": null,
            "visibility": null,
            "align_self": null,
            "height": null,
            "min_height": null,
            "padding": null,
            "grid_auto_rows": null,
            "grid_gap": null,
            "max_width": null,
            "order": null,
            "_view_module_version": "1.2.0",
            "grid_template_areas": null,
            "object_position": null,
            "object_fit": null,
            "grid_auto_columns": null,
            "margin": null,
            "display": null,
            "left": null
          }
        },
        "9dd65dfeb73e4a0393ac9a4e3dbb23a3": {
          "model_module": "@jupyter-widgets/controls",
          "model_name": "DescriptionStyleModel",
          "state": {
            "_view_name": "StyleView",
            "_model_name": "DescriptionStyleModel",
            "description_width": "",
            "_view_module": "@jupyter-widgets/base",
            "_model_module_version": "1.5.0",
            "_view_count": null,
            "_view_module_version": "1.2.0",
            "_model_module": "@jupyter-widgets/controls"
          }
        },
        "429ca326e19e41d1887a9ee9cb999852": {
          "model_module": "@jupyter-widgets/base",
          "model_name": "LayoutModel",
          "state": {
            "_view_name": "LayoutView",
            "grid_template_rows": null,
            "right": null,
            "justify_content": null,
            "_view_module": "@jupyter-widgets/base",
            "overflow": null,
            "_model_module_version": "1.2.0",
            "_view_count": null,
            "flex_flow": null,
            "width": null,
            "min_width": null,
            "border": null,
            "align_items": null,
            "bottom": null,
            "_model_module": "@jupyter-widgets/base",
            "top": null,
            "grid_column": null,
            "overflow_y": null,
            "overflow_x": null,
            "grid_auto_flow": null,
            "grid_area": null,
            "grid_template_columns": null,
            "flex": null,
            "_model_name": "LayoutModel",
            "justify_items": null,
            "grid_row": null,
            "max_height": null,
            "align_content": null,
            "visibility": null,
            "align_self": null,
            "height": null,
            "min_height": null,
            "padding": null,
            "grid_auto_rows": null,
            "grid_gap": null,
            "max_width": null,
            "order": null,
            "_view_module_version": "1.2.0",
            "grid_template_areas": null,
            "object_position": null,
            "object_fit": null,
            "grid_auto_columns": null,
            "margin": null,
            "display": null,
            "left": null
          }
        },
        "f764ca03cc4e4f829aa351d49f3779c4": {
          "model_module": "@jupyter-widgets/controls",
          "model_name": "HBoxModel",
          "state": {
            "_view_name": "HBoxView",
            "_dom_classes": [],
            "_model_name": "HBoxModel",
            "_view_module": "@jupyter-widgets/controls",
            "_model_module_version": "1.5.0",
            "_view_count": null,
            "_view_module_version": "1.5.0",
            "box_style": "",
            "layout": "IPY_MODEL_e6c623aaffbc4e42b9e4e8f0bf72a993",
            "_model_module": "@jupyter-widgets/controls",
            "children": [
              "IPY_MODEL_67dc975249d743ab87fca1ea22347d9a",
              "IPY_MODEL_82d00f5f005247538e2892a4f3aef743"
            ]
          }
        },
        "e6c623aaffbc4e42b9e4e8f0bf72a993": {
          "model_module": "@jupyter-widgets/base",
          "model_name": "LayoutModel",
          "state": {
            "_view_name": "LayoutView",
            "grid_template_rows": null,
            "right": null,
            "justify_content": null,
            "_view_module": "@jupyter-widgets/base",
            "overflow": null,
            "_model_module_version": "1.2.0",
            "_view_count": null,
            "flex_flow": null,
            "width": null,
            "min_width": null,
            "border": null,
            "align_items": null,
            "bottom": null,
            "_model_module": "@jupyter-widgets/base",
            "top": null,
            "grid_column": null,
            "overflow_y": null,
            "overflow_x": null,
            "grid_auto_flow": null,
            "grid_area": null,
            "grid_template_columns": null,
            "flex": null,
            "_model_name": "LayoutModel",
            "justify_items": null,
            "grid_row": null,
            "max_height": null,
            "align_content": null,
            "visibility": null,
            "align_self": null,
            "height": null,
            "min_height": null,
            "padding": null,
            "grid_auto_rows": null,
            "grid_gap": null,
            "max_width": null,
            "order": null,
            "_view_module_version": "1.2.0",
            "grid_template_areas": null,
            "object_position": null,
            "object_fit": null,
            "grid_auto_columns": null,
            "margin": null,
            "display": null,
            "left": null
          }
        },
        "67dc975249d743ab87fca1ea22347d9a": {
          "model_module": "@jupyter-widgets/controls",
          "model_name": "FloatProgressModel",
          "state": {
            "_view_name": "ProgressView",
            "style": "IPY_MODEL_2f30bae5bcdf40dba755cdd4cad7a63a",
            "_dom_classes": [],
            "description": "100%",
            "_model_name": "FloatProgressModel",
            "bar_style": "success",
            "max": 704,
            "_view_module": "@jupyter-widgets/controls",
            "_model_module_version": "1.5.0",
            "value": 704,
            "_view_count": null,
            "_view_module_version": "1.5.0",
            "orientation": "horizontal",
            "min": 0,
            "description_tooltip": null,
            "_model_module": "@jupyter-widgets/controls",
            "layout": "IPY_MODEL_d664133bc43e414fab14be3905e257ca"
          }
        },
        "82d00f5f005247538e2892a4f3aef743": {
          "model_module": "@jupyter-widgets/controls",
          "model_name": "HTMLModel",
          "state": {
            "_view_name": "HTMLView",
            "style": "IPY_MODEL_4afb9a293f624e6a8c97d0694e57a763",
            "_dom_classes": [],
            "description": "",
            "_model_name": "HTMLModel",
            "placeholder": "​",
            "_view_module": "@jupyter-widgets/controls",
            "_model_module_version": "1.5.0",
            "value": " 704/704 [30:41&lt;00:00,  2.62s/it]",
            "_view_count": null,
            "_view_module_version": "1.5.0",
            "description_tooltip": null,
            "_model_module": "@jupyter-widgets/controls",
            "layout": "IPY_MODEL_be3e4e091db84a299edaae87ffad8b54"
          }
        },
        "2f30bae5bcdf40dba755cdd4cad7a63a": {
          "model_module": "@jupyter-widgets/controls",
          "model_name": "ProgressStyleModel",
          "state": {
            "_view_name": "StyleView",
            "_model_name": "ProgressStyleModel",
            "description_width": "initial",
            "_view_module": "@jupyter-widgets/base",
            "_model_module_version": "1.5.0",
            "_view_count": null,
            "_view_module_version": "1.2.0",
            "bar_color": null,
            "_model_module": "@jupyter-widgets/controls"
          }
        },
        "d664133bc43e414fab14be3905e257ca": {
          "model_module": "@jupyter-widgets/base",
          "model_name": "LayoutModel",
          "state": {
            "_view_name": "LayoutView",
            "grid_template_rows": null,
            "right": null,
            "justify_content": null,
            "_view_module": "@jupyter-widgets/base",
            "overflow": null,
            "_model_module_version": "1.2.0",
            "_view_count": null,
            "flex_flow": null,
            "width": null,
            "min_width": null,
            "border": null,
            "align_items": null,
            "bottom": null,
            "_model_module": "@jupyter-widgets/base",
            "top": null,
            "grid_column": null,
            "overflow_y": null,
            "overflow_x": null,
            "grid_auto_flow": null,
            "grid_area": null,
            "grid_template_columns": null,
            "flex": null,
            "_model_name": "LayoutModel",
            "justify_items": null,
            "grid_row": null,
            "max_height": null,
            "align_content": null,
            "visibility": null,
            "align_self": null,
            "height": null,
            "min_height": null,
            "padding": null,
            "grid_auto_rows": null,
            "grid_gap": null,
            "max_width": null,
            "order": null,
            "_view_module_version": "1.2.0",
            "grid_template_areas": null,
            "object_position": null,
            "object_fit": null,
            "grid_auto_columns": null,
            "margin": null,
            "display": null,
            "left": null
          }
        },
        "4afb9a293f624e6a8c97d0694e57a763": {
          "model_module": "@jupyter-widgets/controls",
          "model_name": "DescriptionStyleModel",
          "state": {
            "_view_name": "StyleView",
            "_model_name": "DescriptionStyleModel",
            "description_width": "",
            "_view_module": "@jupyter-widgets/base",
            "_model_module_version": "1.5.0",
            "_view_count": null,
            "_view_module_version": "1.2.0",
            "_model_module": "@jupyter-widgets/controls"
          }
        },
        "be3e4e091db84a299edaae87ffad8b54": {
          "model_module": "@jupyter-widgets/base",
          "model_name": "LayoutModel",
          "state": {
            "_view_name": "LayoutView",
            "grid_template_rows": null,
            "right": null,
            "justify_content": null,
            "_view_module": "@jupyter-widgets/base",
            "overflow": null,
            "_model_module_version": "1.2.0",
            "_view_count": null,
            "flex_flow": null,
            "width": null,
            "min_width": null,
            "border": null,
            "align_items": null,
            "bottom": null,
            "_model_module": "@jupyter-widgets/base",
            "top": null,
            "grid_column": null,
            "overflow_y": null,
            "overflow_x": null,
            "grid_auto_flow": null,
            "grid_area": null,
            "grid_template_columns": null,
            "flex": null,
            "_model_name": "LayoutModel",
            "justify_items": null,
            "grid_row": null,
            "max_height": null,
            "align_content": null,
            "visibility": null,
            "align_self": null,
            "height": null,
            "min_height": null,
            "padding": null,
            "grid_auto_rows": null,
            "grid_gap": null,
            "max_width": null,
            "order": null,
            "_view_module_version": "1.2.0",
            "grid_template_areas": null,
            "object_position": null,
            "object_fit": null,
            "grid_auto_columns": null,
            "margin": null,
            "display": null,
            "left": null
          }
        }
      }
    }
  },
  "cells": [
    {
      "cell_type": "code",
      "metadata": {
        "colab": {
          "base_uri": "https://localhost:8080/"
        },
        "id": "BfWu02rEVYtu",
        "outputId": "d3509c37-6513-43ca-a8cb-22aad3e52c16"
      },
      "source": [
        "# Install required packages.\n",
        "!pip install -q torch-scatter -f https://pytorch-geometric.com/whl/torch-1.9.0+cu102.html\n",
        "!pip install -q torch-sparse -f https://pytorch-geometric.com/whl/torch-1.9.0+cu102.html\n",
        "!pip install -q torch-cluster -f https://pytorch-geometric.com/whl/torch-1.9.0+cu102.html\n",
        "!pip install -q torch-geometric"
      ],
      "execution_count": 3,
      "outputs": [
        {
          "output_type": "stream",
          "text": [
            "\u001b[K     |████████████████████████████████| 2.6MB 4.3MB/s \n",
            "\u001b[K     |████████████████████████████████| 1.4MB 3.9MB/s \n",
            "\u001b[K     |████████████████████████████████| 931kB 4.0MB/s \n",
            "\u001b[K     |████████████████████████████████| 225kB 4.4MB/s \n",
            "\u001b[K     |████████████████████████████████| 235kB 36.5MB/s \n",
            "\u001b[K     |████████████████████████████████| 51kB 6.8MB/s \n",
            "\u001b[?25h  Building wheel for torch-geometric (setup.py) ... \u001b[?25l\u001b[?25hdone\n"
          ],
          "name": "stdout"
        }
      ]
    },
    {
      "cell_type": "code",
      "metadata": {
        "id": "1-f6m5PPaAO-"
      },
      "source": [
        "# !pip install pytorch3d>=0.4.0\n",
        "!pip install \"git+https://github.com/facebookresearch/pytorch3d.git\""
      ],
      "execution_count": null,
      "outputs": []
    },
    {
      "cell_type": "code",
      "metadata": {
        "id": "ATNiKS1WVoQc"
      },
      "source": [
        "import torch\n",
        "import torch.nn as nn\n",
        "import torch.optim as optim\n",
        "from torch.autograd import Variable\n",
        "\n",
        "from torchsummary import summary\n",
        "\n",
        "from torch_geometric.datasets import ModelNet, ShapeNet\n",
        "from torch_geometric.transforms import Compose, FixedPoints, SamplePoints, NormalizeScale\n",
        "from torch_geometric.data import DataLoader\n",
        "\n",
        "import pytorch3d\n",
        "from pytorch3d.loss.chamfer import chamfer_distance\n",
        "\n",
        "import numpy as np\n",
        "\n",
        "import matplotlib.pyplot as plt\n",
        "from mpl_toolkits.mplot3d import Axes3D\n",
        "\n",
        "import time"
      ],
      "execution_count": 11,
      "outputs": []
    },
    {
      "cell_type": "code",
      "metadata": {
        "colab": {
          "base_uri": "https://localhost:8080/"
        },
        "id": "kUJ-ozkkVrF4",
        "outputId": "ac30919d-a3c2-4bbd-b916-552555c90d81"
      },
      "source": [
        "device = torch.device(\"cuda\" if torch.cuda.is_available() else \"cpu\")    \n",
        "torch.__version__, device"
      ],
      "execution_count": 12,
      "outputs": [
        {
          "output_type": "execute_result",
          "data": {
            "text/plain": [
              "('1.9.0+cu102', device(type='cuda'))"
            ]
          },
          "metadata": {
            "tags": []
          },
          "execution_count": 12
        }
      ]
    },
    {
      "cell_type": "code",
      "metadata": {
        "id": "Yg9nXdA5VxMa"
      },
      "source": [
        "shape_name = 'Lamp'\n",
        "dataset = ShapeNet(root='.', categories=shape_name, split='test')"
      ],
      "execution_count": 225,
      "outputs": []
    },
    {
      "cell_type": "code",
      "metadata": {
        "id": "65VSz14uV35W"
      },
      "source": [
        "torch.manual_seed(11)\n",
        "\n",
        "n_points = 2048 # number of points to sample\n",
        "dataset.transform = FixedPoints(num=n_points) # samples points from a point cloud"
      ],
      "execution_count": 226,
      "outputs": []
    },
    {
      "cell_type": "code",
      "metadata": {
        "colab": {
          "base_uri": "https://localhost:8080/"
        },
        "id": "8eGRJ43HWELe",
        "outputId": "faa0d5e1-49d9-4232-d8e8-dde1dd9823e2"
      },
      "source": [
        "single_class_data = dataset\n",
        "n_shapes = len(single_class_data)\n",
        "n_shapes"
      ],
      "execution_count": 227,
      "outputs": [
        {
          "output_type": "execute_result",
          "data": {
            "text/plain": [
              "286"
            ]
          },
          "metadata": {
            "tags": []
          },
          "execution_count": 227
        }
      ]
    },
    {
      "cell_type": "markdown",
      "metadata": {
        "id": "jNAmsXIkyy9S"
      },
      "source": [
        "## The Chamfer loss\n",
        "\n",
        "(based on the Chamfer pseudo-distance)"
      ]
    },
    {
      "cell_type": "code",
      "metadata": {
        "id": "jbfBKAxuypE_"
      },
      "source": [
        "class ChamferLoss(nn.Module):\n",
        "    def __init__(self, point_reduction='sum', batch_reduction='mean'):\n",
        "        super(ChamferLoss, self).__init__()\n",
        "        self.point_reduction = point_reduction\n",
        "        self.batch_reduction = batch_reduction\n",
        "\n",
        "    def forward(self, x, y):\n",
        "        # https://pytorch3d.readthedocs.io/en/latest/_modules/pytorch3d/loss/chamfer.html\n",
        "        chamfer_dist, _ = chamfer_distance(x, y, point_reduction=self.point_reduction, batch_reduction=self.batch_reduction)\n",
        "        return chamfer_dist"
      ],
      "execution_count": 228,
      "outputs": []
    },
    {
      "cell_type": "markdown",
      "metadata": {
        "id": "NpB-5McP6cnu"
      },
      "source": [
        "## The Autoencoder (AE)"
      ]
    },
    {
      "cell_type": "code",
      "metadata": {
        "id": "TGVxYKFbcGta"
      },
      "source": [
        "class Autoencoder(nn.Module):\n",
        "  def __init__(self, encoder_in_ch=3, encoder_out_ch=128, n_points=2048):        \n",
        "        super(Autoencoder, self).__init__()\n",
        "        self.n_points = n_points\n",
        "\n",
        "        self.encoder = nn.Sequential(\n",
        "            nn.Conv1d(encoder_in_ch, 64, 1, 1), nn.BatchNorm1d(64), nn.ReLU(True), \n",
        "            nn.Conv1d(64, 128, 1, 1), nn.BatchNorm1d(128), nn.ReLU(True), \n",
        "            nn.Conv1d(128, 128, 1, 1), nn.BatchNorm1d(128), nn.ReLU(True), \n",
        "            nn.Conv1d(128, 256, 1, 1), nn.BatchNorm1d(256), nn.ReLU(True), \n",
        "            nn.Conv1d(256, encoder_out_ch, 1, 1), nn.BatchNorm1d(encoder_out_ch), nn.ReLU(True), \n",
        "        )\n",
        "\n",
        "        # outputs (batch_size x encoder_out_ch x n_points)\n",
        "        # we then maxpool the output in the forward method, \n",
        "        # so the input to the decoder becomes (batch_size x encoder_out_ch)\n",
        "        \n",
        "        self.decoder = nn.Sequential(\n",
        "            nn.Linear(encoder_out_ch, 256), nn.ReLU(True),\n",
        "            nn.Linear(256, 256), nn.ReLU(True),\n",
        "            nn.Linear(256, 3*n_points)\n",
        "        )  \n",
        "    \n",
        "  def forward(self, x):\n",
        "      x = self.encoder(x)\n",
        "      x, _ = torch.max(x, dim=-1)\n",
        "      x = self.decoder(x) \n",
        "      return x.view(x.size(0), 3, -1)"
      ],
      "execution_count": 229,
      "outputs": []
    },
    {
      "cell_type": "code",
      "metadata": {
        "colab": {
          "base_uri": "https://localhost:8080/"
        },
        "id": "elGAS38G4AZR",
        "outputId": "6a26651f-48fa-4d0d-a470-c010da8e23aa"
      },
      "source": [
        "ae_model = Autoencoder(encoder_in_ch=3, encoder_out_ch=128, n_points=2048).to(device)\n",
        "summary(ae_model, (3, 2048))"
      ],
      "execution_count": 230,
      "outputs": [
        {
          "output_type": "stream",
          "text": [
            "----------------------------------------------------------------\n",
            "        Layer (type)               Output Shape         Param #\n",
            "================================================================\n",
            "            Conv1d-1             [-1, 64, 2048]             256\n",
            "       BatchNorm1d-2             [-1, 64, 2048]             128\n",
            "              ReLU-3             [-1, 64, 2048]               0\n",
            "            Conv1d-4            [-1, 128, 2048]           8,320\n",
            "       BatchNorm1d-5            [-1, 128, 2048]             256\n",
            "              ReLU-6            [-1, 128, 2048]               0\n",
            "            Conv1d-7            [-1, 128, 2048]          16,512\n",
            "       BatchNorm1d-8            [-1, 128, 2048]             256\n",
            "              ReLU-9            [-1, 128, 2048]               0\n",
            "           Conv1d-10            [-1, 256, 2048]          33,024\n",
            "      BatchNorm1d-11            [-1, 256, 2048]             512\n",
            "             ReLU-12            [-1, 256, 2048]               0\n",
            "           Conv1d-13            [-1, 128, 2048]          32,896\n",
            "      BatchNorm1d-14            [-1, 128, 2048]             256\n",
            "             ReLU-15            [-1, 128, 2048]               0\n",
            "           Linear-16                  [-1, 256]          33,024\n",
            "             ReLU-17                  [-1, 256]               0\n",
            "           Linear-18                  [-1, 256]          65,792\n",
            "             ReLU-19                  [-1, 256]               0\n",
            "           Linear-20                 [-1, 6144]       1,579,008\n",
            "================================================================\n",
            "Total params: 1,770,240\n",
            "Trainable params: 1,770,240\n",
            "Non-trainable params: 0\n",
            "----------------------------------------------------------------\n",
            "Input size (MB): 0.02\n",
            "Forward/backward pass size (MB): 33.05\n",
            "Params size (MB): 6.75\n",
            "Estimated Total Size (MB): 39.83\n",
            "----------------------------------------------------------------\n"
          ],
          "name": "stdout"
        }
      ]
    },
    {
      "cell_type": "markdown",
      "metadata": {
        "id": "HMDRzc8tU3ZD"
      },
      "source": [
        "## The Latent GAN (l-GAN)"
      ]
    },
    {
      "cell_type": "code",
      "metadata": {
        "id": "CcF4H9-GU7ss"
      },
      "source": [
        "class LatentGenerator(nn.Module):\n",
        "    def __init__(self, input_dim, output_dim):\n",
        "        super(LatentGenerator, self).__init__()\n",
        "        \n",
        "        self.model = nn.Sequential(\n",
        "            nn.Linear(input_dim, 128), nn.ReLU(True),\n",
        "            nn.Linear(128, output_dim), nn.ReLU(True)\n",
        "        )\n",
        "        \n",
        "    def forward(self, x):        \n",
        "        return self.model(x)\n",
        "    \n",
        "    def init_params(self, layer):\n",
        "        if type(layer) == nn.Linear:\n",
        "            nn.init.xavier_uniform_(layer.weight.data)\n",
        "            nn.init.zeros_(layer.bias.data)"
      ],
      "execution_count": 231,
      "outputs": []
    },
    {
      "cell_type": "markdown",
      "metadata": {
        "id": "2kywJVVZaeM9"
      },
      "source": [
        "### Instantiate the l-GAN model\n",
        "\n",
        "\n"
      ]
    },
    {
      "cell_type": "code",
      "metadata": {
        "id": "qkvRoV5Iajjw",
        "colab": {
          "base_uri": "https://localhost:8080/"
        },
        "outputId": "e85508af-78b5-48c7-e0e2-9658203c2817"
      },
      "source": [
        "# instantiate the l-GAN generator:\n",
        "l_gan_gen_input_dim = 128\n",
        "l_gan_gen_output_dim = 128 # equal to the output_dim of the encoder of the AE model\n",
        "\n",
        "l_gan_gen = LatentGenerator(l_gan_gen_input_dim, l_gan_gen_output_dim).to(device)\n",
        "\n",
        "# initialize the parameters:\n",
        "l_gan_gen.apply(l_gan_gen.init_params)\n",
        "\n",
        "mu = 0.\n",
        "sigma = 0.2\n",
        "\n",
        "z = torch.FloatTensor(1, l_gan_gen_input_dim).normal_(mu, sigma).to(device)\n",
        "\n",
        "print(z.shape)\n",
        "print(l_gan_gen(z).shape)\n",
        "\n",
        "summary(l_gan_gen, (l_gan_gen_input_dim,))"
      ],
      "execution_count": 232,
      "outputs": [
        {
          "output_type": "stream",
          "text": [
            "torch.Size([1, 128])\n",
            "torch.Size([1, 128])\n",
            "----------------------------------------------------------------\n",
            "        Layer (type)               Output Shape         Param #\n",
            "================================================================\n",
            "            Linear-1                  [-1, 128]          16,512\n",
            "              ReLU-2                  [-1, 128]               0\n",
            "            Linear-3                  [-1, 128]          16,512\n",
            "              ReLU-4                  [-1, 128]               0\n",
            "================================================================\n",
            "Total params: 33,024\n",
            "Trainable params: 33,024\n",
            "Non-trainable params: 0\n",
            "----------------------------------------------------------------\n",
            "Input size (MB): 0.00\n",
            "Forward/backward pass size (MB): 0.00\n",
            "Params size (MB): 0.13\n",
            "Estimated Total Size (MB): 0.13\n",
            "----------------------------------------------------------------\n"
          ],
          "name": "stdout"
        }
      ]
    },
    {
      "cell_type": "markdown",
      "metadata": {
        "id": "hguK1Pb9jOSX"
      },
      "source": [
        "## Raw GAN (r-GAN)\n",
        "\n",
        "(See https://arxiv.org/pdf/1707.02392.pdf)"
      ]
    },
    {
      "cell_type": "code",
      "metadata": {
        "id": "9KK0GFfPjIb6"
      },
      "source": [
        "class Generator(nn.Module):\n",
        "    def __init__(self, input_dim, output_dim):\n",
        "        super(Generator, self).__init__()\n",
        "        \n",
        "        self.model = nn.Sequential(\n",
        "            nn.Linear(input_dim, 64), nn.ReLU(True),\n",
        "            nn.Linear(64, 128), nn.ReLU(True),\n",
        "            nn.Linear(128, 512), nn.ReLU(True),\n",
        "            nn.Linear(512, 1024), nn.ReLU(True),\n",
        "            nn.Linear(1024, output_dim)\n",
        "        )\n",
        "        \n",
        "    def forward(self, x):\n",
        "        # reshape to batch_size x 3 x n_points\n",
        "        samples = self.model(x).view(x.size(0), 3, -1)\n",
        "\n",
        "        # TODO: try clipping the output to be in [-1, 1], e.g., by applying tanh\n",
        "        # samples.clamp_(min=-1, max=1)\n",
        "\n",
        "        return samples\n",
        "    \n",
        "    def init_params(self, layer):\n",
        "        if type(layer) == nn.Linear:\n",
        "            nn.init.xavier_uniform_(layer.weight.data)\n",
        "            nn.init.zeros_(layer.bias.data)\n",
        "\n",
        "RawGanGenerator = Generator"
      ],
      "execution_count": 233,
      "outputs": []
    },
    {
      "cell_type": "markdown",
      "metadata": {
        "id": "XDtECN0qjpcb"
      },
      "source": [
        "### Instantiate the r-GAN model\n"
      ]
    },
    {
      "cell_type": "code",
      "metadata": {
        "id": "D5VUNYU0jTdc"
      },
      "source": [
        "raw_gan_gen_input_dim = 128\n",
        "raw_gan_gen = RawGanGenerator(raw_gan_gen_input_dim, n_points*3).to(device)"
      ],
      "execution_count": 234,
      "outputs": []
    },
    {
      "cell_type": "markdown",
      "metadata": {
        "id": "Oecx8W-r6Fc4"
      },
      "source": [
        "## Load models from disk"
      ]
    },
    {
      "cell_type": "code",
      "metadata": {
        "colab": {
          "base_uri": "https://localhost:8080/"
        },
        "id": "pOetK7cW58tx",
        "outputId": "813ee872-e530-4080-c728-b78d13923ebf"
      },
      "source": [
        "ae_model.load_state_dict(torch.load(shape_name+'_ae_model.tar'))\n",
        "\n",
        "checkpoint = torch.load(shape_name+'_l_gan.tar')\n",
        "l_gan_gen.load_state_dict(checkpoint['l_gan_generator'])\n",
        "\n",
        "checkpoint = torch.load(shape_name+'_raw_gan.tar')\n",
        "raw_gan_gen.load_state_dict(checkpoint['raw_gan_generator'])"
      ],
      "execution_count": 235,
      "outputs": [
        {
          "output_type": "execute_result",
          "data": {
            "text/plain": [
              "<All keys matched successfully>"
            ]
          },
          "metadata": {
            "tags": []
          },
          "execution_count": 235
        }
      ]
    },
    {
      "cell_type": "markdown",
      "metadata": {
        "id": "mgls5p0GWdia"
      },
      "source": [
        "## Metrics\n",
        "\n",
        "### Coverage and Fidelity"
      ]
    },
    {
      "cell_type": "code",
      "metadata": {
        "id": "jV4HShfBWemY"
      },
      "source": [
        "from tqdm.notebook import tqdm\n",
        "\n",
        "def coverage(real_clouds, gen_clouds, distance_fn):    \n",
        "    matches = [ torch.argmin(torch.as_tensor([distance_fn(a, b) for b in real_clouds])) for a in gen_clouds ]\n",
        "    score = len(torch.unique(matches)) / len(real_clouds)\n",
        "    return score\n",
        "\n",
        "\n",
        "def coverage_2(real_clouds, gen_clouds, distance_fn):    \n",
        "    \n",
        "    matches = []\n",
        "    for a in tqdm(gen_clouds):\n",
        "        idx = torch.argmin(torch.as_tensor([distance_fn(a, b) for b in real_clouds]))\n",
        "        matches.append(idx)\n",
        "\n",
        "    score = len(torch.unique(torch.as_tensor(matches))) / len(real_clouds)\n",
        "\n",
        "    return score\n",
        "\n",
        "def coverage_3(real_clouds, gen_clouds, distance_fn, batch_size=50):\n",
        "    matches = []\n",
        "    for gen_sample in tqdm(gen_clouds): \n",
        "        all_distances = []\n",
        "\n",
        "        for batch_idx in range(0, len(real_clouds), batch_size):\n",
        "            real_batch = torch.cat(real_clouds[batch_idx:batch_idx+batch_size])\n",
        "            gen_batch = gen_sample.repeat(len(real_batch), 1, 1)\n",
        "\n",
        "            all_distances.append(distance_fn(gen_batch, real_batch))\n",
        "        \n",
        "        idx = torch.argmin(torch.cat(all_distances))\n",
        "        matches.append(idx)\n",
        "\n",
        "    score = len(torch.unique(torch.as_tensor(matches))) / len(real_clouds)\n",
        "\n",
        "    return score\n",
        "\n",
        "\n",
        "def fidelity(real_clouds, gen_clouds, distance_fn):\n",
        "    distances = [ [distance_fn(a, b) for b in gen_clouds] for a in real_clouds ]\n",
        "    min_distances = torch.as_tensor(distances).min(dim=-1)\n",
        "\n",
        "    score = torch.mean(min_distances)\n",
        "    \n",
        "    return score\n",
        "\n",
        "def fidelity_2(real_clouds, gen_clouds, distance_fn):\n",
        "    min_distances = []\n",
        "\n",
        "    for a in tqdm(real_clouds):\n",
        "        min_dist = torch.min(torch.as_tensor([distance_fn(a, b) for b in gen_clouds]))\n",
        "        min_distances.append(min_dist)\n",
        "\n",
        "    score = torch.mean(torch.as_tensor(min_distances)).cpu().numpy()\n",
        "    \n",
        "    return score\n",
        "\n",
        "def fidelity_3(real_clouds, gen_clouds, distance_fn, batch_size=50):\n",
        "    min_distances = []\n",
        "\n",
        "    for real_sample in tqdm(real_clouds): \n",
        "        all_distances = []\n",
        "\n",
        "        for batch_idx in range(0, len(gen_clouds), batch_size):\n",
        "            gen_batch = torch.cat(gen_clouds[batch_idx:batch_idx+batch_size])\n",
        "            real_batch = real_sample.repeat(len(gen_batch), 1, 1)\n",
        "\n",
        "            all_distances.append(distance_fn(real_batch, gen_batch))\n",
        "        \n",
        "        min_dist = torch.min(torch.cat(all_distances))\n",
        "        min_distances.append(min_dist)\n",
        "\n",
        "    score = torch.mean(torch.as_tensor(min_distances)).cpu().numpy()\n",
        "    \n",
        "    return score"
      ],
      "execution_count": 236,
      "outputs": []
    },
    {
      "cell_type": "markdown",
      "metadata": {
        "id": "cjxihcLFl7s5"
      },
      "source": [
        "### Collect all samples belonging to the target class"
      ]
    },
    {
      "cell_type": "code",
      "metadata": {
        "colab": {
          "base_uri": "https://localhost:8080/"
        },
        "id": "Fa75I966lbxn",
        "outputId": "d08123de-86cc-4f5f-a70d-dcb468b563e1"
      },
      "source": [
        "batch_size = 1\n",
        "dataloader = DataLoader(dataset=single_class_data, \n",
        "                        batch_size=batch_size, \n",
        "                        shuffle=False,\n",
        "                        drop_last=False)\n",
        "\n",
        "target_samples = []\n",
        "\n",
        "for idx, batch_data in enumerate(dataloader):\n",
        "    if idx >= len(dataloader):\n",
        "        break\n",
        "    \n",
        "    target = batch_data.pos.view(batch_size, n_points, 3).to(device)\n",
        "    target_samples.append(target)\n",
        "\n",
        "len(target_samples)"
      ],
      "execution_count": 237,
      "outputs": [
        {
          "output_type": "execute_result",
          "data": {
            "text/plain": [
              "286"
            ]
          },
          "metadata": {
            "tags": []
          },
          "execution_count": 237
        }
      ]
    },
    {
      "cell_type": "markdown",
      "metadata": {
        "id": "L3NKj_1Ilj2h"
      },
      "source": [
        "### Generate a bunch of point clouds"
      ]
    },
    {
      "cell_type": "code",
      "metadata": {
        "colab": {
          "base_uri": "https://localhost:8080/"
        },
        "id": "R98OGNWvlEhI",
        "outputId": "17d2f532-ece9-4548-e6db-72898b403505"
      },
      "source": [
        "batch_size = 1\n",
        "n_samples = len(single_class_data)\n",
        "\n",
        "is_latent_gan = False\n",
        "\n",
        "generated_samples = []\n",
        "\n",
        "for idx in range(n_samples):\n",
        "    # sample the noise vector:\n",
        "    z = torch.Tensor(batch_size, l_gan_gen_input_dim).normal_(mu, sigma).to(device)\n",
        "\n",
        "    if is_latent_gan:\n",
        "        # generate bottleneck representation, and then decode point cloud\n",
        "        gen_samples = ae_model.decoder(l_gan_gen(z))\n",
        "    else:\n",
        "        gen_samples = raw_gan_gen(z)\n",
        "        \n",
        "    gen_samples = gen_samples.view(batch_size, 3, n_points).transpose(2, 1).detach()\n",
        "    generated_samples.append(gen_samples)\n",
        "\n",
        "len(generated_samples)"
      ],
      "execution_count": 243,
      "outputs": [
        {
          "output_type": "execute_result",
          "data": {
            "text/plain": [
              "286"
            ]
          },
          "metadata": {
            "tags": []
          },
          "execution_count": 243
        }
      ]
    },
    {
      "cell_type": "code",
      "metadata": {
        "colab": {
          "base_uri": "https://localhost:8080/"
        },
        "id": "5O5jaWje--Tv",
        "outputId": "e4f1b128-cf49-4e4e-d987-3b52c44f6145"
      },
      "source": [
        "generated_samples[0].shape, target_samples[0].shape"
      ],
      "execution_count": 244,
      "outputs": [
        {
          "output_type": "execute_result",
          "data": {
            "text/plain": [
              "(torch.Size([1, 2048, 3]), torch.Size([1, 2048, 3]))"
            ]
          },
          "metadata": {
            "tags": []
          },
          "execution_count": 244
        }
      ]
    },
    {
      "cell_type": "markdown",
      "metadata": {
        "id": "HDaAE0FyQK_F"
      },
      "source": [
        "## Point cloud distance: Chamfer"
      ]
    },
    {
      "cell_type": "code",
      "metadata": {
        "id": "hiR3mmE-QTV-"
      },
      "source": [
        "normalize = True\n",
        "pointcloud_distance = ChamferLoss(batch_reduction=None, \n",
        "                                  point_reduction='mean' if normalize else 'sum')"
      ],
      "execution_count": 245,
      "outputs": []
    },
    {
      "cell_type": "markdown",
      "metadata": {
        "id": "mQxtN8JN_DDb"
      },
      "source": [
        "## Evaluate coverage"
      ]
    },
    {
      "cell_type": "code",
      "metadata": {
        "colab": {
          "base_uri": "https://localhost:8080/",
          "height": 99,
          "referenced_widgets": [
            "2d68b1bedfd9463b96f6357e4a91c752",
            "8bb2305efdf54a73962e9ba23ea9b1b0",
            "e95c5e30d17d48ce80413f3948ac2922",
            "6a2e0579612c4d8b95a08a86170dc8f7",
            "551aed0db220422d999450dd63b8f391",
            "8e3e4daeebe64be9a512fa666a35f13c",
            "aa69a93cc95543c58945135dfa540506",
            "3b1c6fc453e245e596059b8bc9643d00"
          ]
        },
        "id": "jV4RBvDo_C1c",
        "outputId": "69ed4285-68d2-409a-f35e-36099ef33a89"
      },
      "source": [
        "n_samples = len(single_class_data)\n",
        "\n",
        "c_score = coverage_3(target_samples[:n_samples], generated_samples[:n_samples], distance_fn=pointcloud_distance, batch_size=256)\n",
        "\n",
        "print(f\"\\ncoverage CD: {c_score:.4}\")"
      ],
      "execution_count": 246,
      "outputs": [
        {
          "output_type": "display_data",
          "data": {
            "application/vnd.jupyter.widget-view+json": {
              "model_id": "2d68b1bedfd9463b96f6357e4a91c752",
              "version_minor": 0,
              "version_major": 2
            },
            "text/plain": [
              "HBox(children=(FloatProgress(value=0.0, max=286.0), HTML(value='')))"
            ]
          },
          "metadata": {
            "tags": []
          }
        },
        {
          "output_type": "stream",
          "text": [
            "\n",
            "\n",
            "coverage CD: 0.01748\n"
          ],
          "name": "stdout"
        }
      ]
    },
    {
      "cell_type": "markdown",
      "metadata": {
        "id": "7bIfb-eIGGs2"
      },
      "source": [
        "## Evaluate fidelity"
      ]
    },
    {
      "cell_type": "code",
      "metadata": {
        "colab": {
          "base_uri": "https://localhost:8080/",
          "height": 99,
          "referenced_widgets": [
            "ed84978acec149609e4f1c775afac1ce",
            "461767ed1a094996aff6b3f57f9fa38d",
            "09ab92182b634be29388b2ecc37931fa",
            "1fb6fc1325934cfcb8393c339828061b",
            "ec8846e6024c4b358beb05c0e9c49714",
            "98b49866a769492984a473ff5411435e",
            "a56e9aade9f1465eb64da8b00e8544a7",
            "5c230ea86c0d4de2870e76e775098cd3"
          ]
        },
        "id": "UkCLKCyMAsjJ",
        "outputId": "74f8dee7-90a1-412b-a1ed-d9adb725ba1e"
      },
      "source": [
        "n_samples = len(single_class_data)\n",
        "\n",
        "f_score = fidelity_3(target_samples[:n_samples], generated_samples[:n_samples], distance_fn=pointcloud_distance, batch_size=256)\n",
        "\n",
        "print(f\"\\nfidelity CD (MMD-CD): {f_score:.4}\")"
      ],
      "execution_count": 247,
      "outputs": [
        {
          "output_type": "display_data",
          "data": {
            "application/vnd.jupyter.widget-view+json": {
              "model_id": "ed84978acec149609e4f1c775afac1ce",
              "version_minor": 0,
              "version_major": 2
            },
            "text/plain": [
              "HBox(children=(FloatProgress(value=0.0, max=286.0), HTML(value='')))"
            ]
          },
          "metadata": {
            "tags": []
          }
        },
        {
          "output_type": "stream",
          "text": [
            "\n",
            "\n",
            "fidelity CD (MMD-CD): 0.01961\n"
          ],
          "name": "stdout"
        }
      ]
    },
    {
      "cell_type": "markdown",
      "metadata": {
        "id": "IAEm9QfvM6tN"
      },
      "source": [
        "### Sanity check"
      ]
    },
    {
      "cell_type": "code",
      "metadata": {
        "colab": {
          "base_uri": "https://localhost:8080/",
          "height": 82,
          "referenced_widgets": [
            "f2babe8fb46a457689564d3e3ed44775",
            "edbd8af922a345cca06deae2a8f64fbf",
            "575c6629aa4440ebb290854e4924d48f",
            "ebfc3ee447cd4521827ebe4a24e1f5c0",
            "52be4836a11b45e9aac8496ed5d5e5f0",
            "faa964cb999141a4aa37b85bd2d5c422",
            "9dd65dfeb73e4a0393ac9a4e3dbb23a3",
            "429ca326e19e41d1887a9ee9cb999852"
          ]
        },
        "id": "iUDflGLiEl0i",
        "outputId": "d6b261fe-227f-4b1c-ab19-0e1fd1dede3d"
      },
      "source": [
        "coverage_3(target_samples[:n_samples], target_samples[:n_samples], distance_fn=pointcloud_distance, batch_size=256)"
      ],
      "execution_count": 124,
      "outputs": [
        {
          "output_type": "display_data",
          "data": {
            "application/vnd.jupyter.widget-view+json": {
              "model_id": "f2babe8fb46a457689564d3e3ed44775",
              "version_minor": 0,
              "version_major": 2
            },
            "text/plain": [
              "HBox(children=(FloatProgress(value=0.0, max=704.0), HTML(value='')))"
            ]
          },
          "metadata": {
            "tags": []
          }
        },
        {
          "output_type": "stream",
          "text": [
            "\n"
          ],
          "name": "stdout"
        },
        {
          "output_type": "execute_result",
          "data": {
            "text/plain": [
              "1.0"
            ]
          },
          "metadata": {
            "tags": []
          },
          "execution_count": 124
        }
      ]
    },
    {
      "cell_type": "code",
      "metadata": {
        "colab": {
          "base_uri": "https://localhost:8080/",
          "height": 82,
          "referenced_widgets": [
            "f764ca03cc4e4f829aa351d49f3779c4",
            "e6c623aaffbc4e42b9e4e8f0bf72a993",
            "67dc975249d743ab87fca1ea22347d9a",
            "82d00f5f005247538e2892a4f3aef743",
            "2f30bae5bcdf40dba755cdd4cad7a63a",
            "d664133bc43e414fab14be3905e257ca",
            "4afb9a293f624e6a8c97d0694e57a763",
            "be3e4e091db84a299edaae87ffad8b54"
          ]
        },
        "id": "_jTDbCuSLM6D",
        "outputId": "e7670faf-4949-48f2-94d3-e94d647ed283"
      },
      "source": [
        "fidelity_3(target_samples[:n_samples], target_samples[:n_samples], distance_fn=pointcloud_distance, batch_size=256)"
      ],
      "execution_count": 125,
      "outputs": [
        {
          "output_type": "display_data",
          "data": {
            "application/vnd.jupyter.widget-view+json": {
              "model_id": "f764ca03cc4e4f829aa351d49f3779c4",
              "version_minor": 0,
              "version_major": 2
            },
            "text/plain": [
              "HBox(children=(FloatProgress(value=0.0, max=704.0), HTML(value='')))"
            ]
          },
          "metadata": {
            "tags": []
          }
        },
        {
          "output_type": "stream",
          "text": [
            "\n"
          ],
          "name": "stdout"
        },
        {
          "output_type": "execute_result",
          "data": {
            "text/plain": [
              "array(0., dtype=float32)"
            ]
          },
          "metadata": {
            "tags": []
          },
          "execution_count": 125
        }
      ]
    }
  ]
}