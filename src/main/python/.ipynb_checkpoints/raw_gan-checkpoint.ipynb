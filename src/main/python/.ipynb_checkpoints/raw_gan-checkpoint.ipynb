{
 "cells": [
  {
   "cell_type": "code",
   "execution_count": 1,
   "id": "educated-transcription",
   "metadata": {},
   "outputs": [],
   "source": [
    "import torch\n",
    "import torch.nn as nn\n",
    "import torch.optim as optim\n",
    "\n",
    "from torchsummary import summary\n",
    "\n",
    "from torch_geometric.datasets import ModelNet\n",
    "from torch_geometric.transforms import Compose, SamplePoints, NormalizeScale\n",
    "from torch_geometric.data import DataLoader\n",
    "\n",
    "import numpy as np\n",
    "\n",
    "import matplotlib.pyplot as plt\n",
    "from mpl_toolkits.mplot3d import Axes3D\n",
    "\n",
    "import time"
   ]
  },
  {
   "cell_type": "code",
   "execution_count": 2,
   "id": "dangerous-stroke",
   "metadata": {},
   "outputs": [
    {
     "data": {
      "text/plain": [
       "('1.6.0+cu101', device(type='cuda'))"
      ]
     },
     "execution_count": 2,
     "metadata": {},
     "output_type": "execute_result"
    }
   ],
   "source": [
    "device = torch.device(\"cuda\" if torch.cuda.is_available() else \"cpu\")    \n",
    "torch.__version__, device"
   ]
  },
  {
   "cell_type": "code",
   "execution_count": 3,
   "id": "apart-martin",
   "metadata": {},
   "outputs": [],
   "source": [
    "def visualize_mesh(pos, face):\n",
    "    # from the tutorial https://colab.research.google.com/drive/1D45E5bUK3gQ40YpZo65ozs7hg5l-eo_U?usp=sharing#scrollTo=SvsEAR28LUI7\n",
    "    fig = plt.figure()\n",
    "    ax = fig.gca(projection='3d')\n",
    "    ax.axes.xaxis.set_ticklabels([])\n",
    "    ax.axes.yaxis.set_ticklabels([])\n",
    "    ax.axes.zaxis.set_ticklabels([])\n",
    "    ax.plot_trisurf(pos[:, 0], pos[:, 1], pos[:, 2], triangles=data.face.t(), antialiased=False)\n",
    "    plt.show()\n",
    "\n",
    "\n",
    "def visualize_points(points, ax=None, show_grid=False):\n",
    "    fig = plt.figure()\n",
    "    if ax is None:\n",
    "        ax = fig.gca(projection='3d')\n",
    "    ax.patch.set_alpha(0)\n",
    "    ax.grid(show_grid)\n",
    "    ax.scatter(points[:,0], points[:,1], points[:,2], c=points[:,1], cmap='plasma', s=10)\n",
    "    \n",
    "    \n",
    "def visualize_generated_samples(gen_samples, show_grid=False):\n",
    "    fig = plt.figure(figsize=(16, 8))\n",
    "    for i, gen_sample in enumerate(gen_samples):\n",
    "        ax = fig.add_subplot(1, 2, i+1, projection='3d')\n",
    "        visualize_points(gen_sample, ax, show_grid)"
   ]
  },
  {
   "cell_type": "markdown",
   "id": "incomplete-quantum",
   "metadata": {},
   "source": [
    "## Process the ModelNet data"
   ]
  },
  {
   "cell_type": "code",
   "execution_count": null,
   "id": "differential-poverty",
   "metadata": {},
   "outputs": [],
   "source": [
    "dataset = ModelNet(root='E:\\data\\modelnet40_data', name='40')\n",
    "print(dataset)\n",
    "\n",
    "data = dataset[0]\n",
    "print(data)\n",
    "visualize_mesh(data.pos, data.face)\n",
    "\n",
    "data = dataset[4]\n",
    "print(data)\n",
    "visualize_mesh(data.pos, data.face)"
   ]
  },
  {
   "cell_type": "markdown",
   "id": "overhead-warner",
   "metadata": {},
   "source": [
    "### Normalize the position scale and sample and plot points"
   ]
  },
  {
   "cell_type": "code",
   "execution_count": null,
   "id": "mediterranean-maldives",
   "metadata": {},
   "outputs": [],
   "source": [
    "torch.manual_seed(11)\n",
    "\n",
    "n_points = 2048 # number of points to sample\n",
    "dataset.transform = Compose([SamplePoints(num=n_points), NormalizeScale()])"
   ]
  },
  {
   "cell_type": "code",
   "execution_count": null,
   "id": "liable-principal",
   "metadata": {},
   "outputs": [],
   "source": [
    "data = dataset[0]\n",
    "print(data)\n",
    "visualize_points(data.pos)\n",
    "\n",
    "data = dataset[4]\n",
    "print(data)\n",
    "visualize_points(data.pos)"
   ]
  },
  {
   "cell_type": "markdown",
   "id": "confidential-fishing",
   "metadata": {},
   "source": [
    "### Collect the data for a single class"
   ]
  },
  {
   "cell_type": "code",
   "execution_count": null,
   "id": "excessive-championship",
   "metadata": {},
   "outputs": [],
   "source": [
    "shape_label = 0\n",
    "single_class_data = dataset[dataset.data.y==shape_label]"
   ]
  },
  {
   "cell_type": "code",
   "execution_count": null,
   "id": "failing-exception",
   "metadata": {},
   "outputs": [],
   "source": [
    "n_shapes = len(single_class_data)\n",
    "n_shapes"
   ]
  },
  {
   "cell_type": "markdown",
   "id": "committed-vessel",
   "metadata": {},
   "source": [
    "## Raw GAN (r-GAN)\n",
    "\n",
    "(See https://arxiv.org/pdf/1707.02392.pdf)\n",
    "\n",
    "**Generator**\n",
    "\n",
    "Input  128 --->  Linear 64 + ReLU  ---> Linear 128 + ReLU ---> Linear 512 + ReLU --->  Linear 1024 + ReLU  --->  Linear 2048*3\n",
    "\n",
    "<br></br>\n",
    "\n",
    "**Discriminator**\n",
    "\n",
    "Input 2048x3 --->\n",
    "\n",
    "ENCODER\n",
    "\n",
    "Conv1D (2048, 64, kernel_size=1)   + LeakyReLU  --->  \n",
    "Conv1D (64, 128, kernel_size=1)    + LeakyReLU --->\n",
    "Conv1D (128, 256, kernel_size=1)   + LeakyReLU  --->\n",
    "Conv1D (256, 256, kernel_size=1)   + LeakyReLU  --->\n",
    "Conv1D (256, 512, kernel_size=1)   + LeakyReLU  --->\n",
    "(output.shape = (512, 3))\n",
    "\n",
    "--->\n",
    "\n",
    "DECODER \n",
    "\n",
    "--->  Linear(512, 128) + ReLU ---> Linear(128, 64) + ReLU --->\n",
    "--->  Linear(64, 1) + Sigmoid ---> Fake or Real\n"
   ]
  },
  {
   "cell_type": "code",
   "execution_count": null,
   "id": "focal-minority",
   "metadata": {},
   "outputs": [],
   "source": [
    "class Generator(nn.Module):\n",
    "    def __init__(self, input_dim, output_dim):\n",
    "        super(Generator, self).__init__()\n",
    "        \n",
    "        self.model = nn.Sequential(\n",
    "            nn.Linear(input_dim, 64), nn.ReLU(True),\n",
    "            nn.Linear(64, 128), nn.ReLU(True),\n",
    "            nn.Linear(128, 512), nn.ReLU(True),\n",
    "            nn.Linear(512, 1024), nn.ReLU(True),\n",
    "            nn.Linear(1024, output_dim)\n",
    "        )\n",
    "    \n",
    "    # TODO: try clipping the output to be in [-1, 1], e.g., by applying tanh\n",
    "        \n",
    "    def forward(self, x):\n",
    "        # reshape to batch_size x 3 x n_points\n",
    "        return self.model(x).view(x.size(0), 3, -1)\n",
    "\n",
    "    \n",
    "    def init_params(self, layer):\n",
    "        if type(layer) == nn.Linear:\n",
    "            nn.init.xavier_uniform_(layer.weight.data)\n",
    "            nn.init.zeros_(layer.bias.data)"
   ]
  },
  {
   "cell_type": "code",
   "execution_count": null,
   "id": "delayed-journalist",
   "metadata": {},
   "outputs": [],
   "source": [
    "# instantiate the r-GAN generator\n",
    "raw_gan_gen_input_dim = 128\n",
    "raw_gan_gen = Generator(raw_gan_gen_input_dim, n_points*3).to(device)\n",
    "\n",
    "# initialize the parameters:\n",
    "raw_gan_gen.apply(raw_gan_gen.init_params)\n",
    "\n",
    "mu = 0.\n",
    "sigma = 0.2\n",
    "\n",
    "z = torch.FloatTensor(1, raw_gan_gen_input_dim).normal_(mu, sigma).to(device)\n",
    "\n",
    "print(z.shape)\n",
    "print(raw_gan_gen(z).shape)\n",
    "\n",
    "summary(raw_gan_gen, (1, raw_gan_gen_input_dim))"
   ]
  },
  {
   "cell_type": "code",
   "execution_count": null,
   "id": "revised-series",
   "metadata": {},
   "outputs": [],
   "source": [
    "class Discriminator(nn.Module):\n",
    "    def __init__(self, encoder_in_ch, encoder_out_ch):        \n",
    "        super(Discriminator, self).__init__()\n",
    "        \n",
    "        self.encoder = nn.Sequential(\n",
    "            nn.Conv1d(encoder_in_ch, 64, 1, 1), nn.LeakyReLU(0.2),\n",
    "            nn.Conv1d(64, 128, 1, 1), nn.LeakyReLU(0.2),\n",
    "            nn.Conv1d(128, 256, 1, 1), nn.LeakyReLU(0.2),\n",
    "            nn.Conv1d(256, 256, 1, 1), nn.LeakyReLU(0.2),\n",
    "            nn.Conv1d(256, encoder_out_ch, 1, 1), nn.LeakyReLU(0.2)\n",
    "        )\n",
    "        # outputs (batch_size x encoder_out_ch x 3)\n",
    "        # we then maxpool the output in the forward method, \n",
    "        # so the input to the decoder becomes (batch_size x encoder_out_ch)\n",
    "        \n",
    "        self.decoder = nn.Sequential(\n",
    "            nn.Linear(encoder_out_ch, 128), nn.ReLU(True),\n",
    "            nn.Linear(128, 64), nn.ReLU(True),\n",
    "            nn.Linear(64, 1), nn.Sigmoid(),\n",
    "        )\n",
    "   \n",
    "\n",
    "    def forward(self, x):\n",
    "        x = self.encoder(x)\n",
    "        x, _ = torch.max(x, dim=-1)\n",
    "        x = self.decoder(x)\n",
    "        return x\n",
    "            \n",
    "            \n",
    "    def init_params(self, layer):\n",
    "        if type(layer) == nn.Conv1d:\n",
    "            nn.init.kaiming_uniform_(layer.weight.data)\n",
    "            nn.init.zeros_(layer.bias.data)            \n",
    "        if type(layer) == nn.Linear:\n",
    "            nn.init.xavier_uniform_(layer.weight.data)\n",
    "            nn.init.zeros_(layer.bias.data)"
   ]
  },
  {
   "cell_type": "code",
   "execution_count": null,
   "id": "defined-links",
   "metadata": {},
   "outputs": [],
   "source": [
    "# instantiate the r-GAN discriminator:\n",
    "raw_gan_dis_input_ch = 3\n",
    "raw_gan_dis = Discriminator(raw_gan_dis_input_ch, 512).to(device)\n",
    "\n",
    "# initialize the parameters:\n",
    "raw_gan_dis.apply(raw_gan_dis.init_params)\n",
    "\n",
    "# print the summary:\n",
    "y = torch.ones((1, 3, 2048)).to(device)\n",
    "print(y.shape)\n",
    "\n",
    "pred = raw_gan_dis(y)\n",
    "print(pred.shape)\n",
    "\n",
    "summary(raw_gan_dis, (raw_gan_dis_input_ch, 2048))"
   ]
  },
  {
   "cell_type": "markdown",
   "id": "rising-peripheral",
   "metadata": {},
   "source": [
    "## Optimize the r-GAN"
   ]
  },
  {
   "cell_type": "markdown",
   "id": "matched-letter",
   "metadata": {},
   "source": [
    "### Optimization setup"
   ]
  },
  {
   "cell_type": "code",
   "execution_count": null,
   "id": "excited-tobago",
   "metadata": {},
   "outputs": [],
   "source": [
    "# hyperparameters:\n",
    "lr_gen = 1e-4\n",
    "lr_dis = 1e-4\n",
    "beta1 = 0.5\n",
    "beta2 = 0.999\n",
    "\n",
    "# two separate optimizers for the generator and discriminator:\n",
    "optimizer_gen = optim.Adam(params=raw_gan_gen.parameters(), \n",
    "                           lr=lr_gen, \n",
    "                           betas=(beta1, beta2))\n",
    "\n",
    "optimizer_dis = optim.Adam(params=raw_gan_dis.parameters(), \n",
    "                           lr=lr_dis, \n",
    "                           betas=(beta1, beta2))\n",
    "\n",
    "# by supplying with the correct labels, we will make it \n",
    "# equivalent to using non-saturating heuristic for the generator\n",
    "# and the standard binary cross-entropy for the discriminator\n",
    "criterion = nn.BCELoss().to(device)"
   ]
  },
  {
   "cell_type": "markdown",
   "id": "elementary-vinyl",
   "metadata": {},
   "source": [
    "### Create a dataloader for our single class dataset"
   ]
  },
  {
   "cell_type": "code",
   "execution_count": null,
   "id": "boolean-explosion",
   "metadata": {},
   "outputs": [],
   "source": [
    "batch_size = 50\n",
    "dataloader = DataLoader(dataset=single_class_data, \n",
    "                        batch_size=batch_size, \n",
    "                        shuffle=True,\n",
    "                        drop_last=True)\n",
    "\n",
    "print('Batch size: ', batch_size)\n",
    "print('Number of batches:', len(dataloader))"
   ]
  },
  {
   "cell_type": "markdown",
   "id": "legal-course",
   "metadata": {},
   "source": [
    "### Training loop"
   ]
  },
  {
   "cell_type": "code",
   "execution_count": null,
   "id": "optimum-peripheral",
   "metadata": {},
   "outputs": [],
   "source": [
    "epochs = 200\n",
    "print_period = 10\n",
    "\n",
    "losses_gen = []\n",
    "losses_dis = []\n",
    "\n",
    "for i in range(epochs):\n",
    "    t0 = time.time()\n",
    "    \n",
    "    for batch_idx, batch_data in enumerate(dataloader):\n",
    "        print(batch_idx, end='\\r')\n",
    "        batch_t0 = time.time()\n",
    "        batch_size = batch_data.pos.shape[0] // n_points\n",
    "        \n",
    "        x = batch_data.pos.reshape(batch_size, n_points, 3).transpose(2, 1).to(device)\n",
    "        \n",
    "        # sample random vectors and generate samples from them:\n",
    "        z = torch.FloatTensor(batch_size, raw_gan_gen_input_dim).normal_(mu, sigma).to(device)\n",
    "        gen_samples = raw_gan_gen(z)\n",
    "        \n",
    "        # get the discriminator output for the two types of input:\n",
    "        prob_x = raw_gan_dis(x)\n",
    "        prob_gen_samples = raw_gan_dis(gen_samples)\n",
    "        \n",
    "        # the target probabilities:\n",
    "        prob_real = torch.ones((batch_size, 1)).to(device)\n",
    "        prob_fake = torch.zeros((batch_size, 1)).to(device)\n",
    "        \n",
    "        # the non-saturating heuristic loss for the generator:\n",
    "        loss_gen = criterion(prob_gen_samples, prob_real)\n",
    "        \n",
    "        # compute the gradient of the loss_gen wrt the generator parameters:\n",
    "        optimizer_gen.zero_grad()\n",
    "        loss_gen.backward(retain_graph=True)\n",
    "        \n",
    "        # update the generator parameters:\n",
    "        optimizer_gen.step()\n",
    "        losses_gen.append(loss_gen.item())\n",
    "                \n",
    "        # the usual (binary cross-entropy) loss for the discriminator:\n",
    "        loss_dis_real_term = criterion(prob_x, prob_real)\n",
    "        loss_dis_fake_term = criterion(prob_gen_samples.detach(), prob_fake)\n",
    "        loss_dis = loss_dis_real_term + loss_dis_fake_term\n",
    "        \n",
    "        # compute the gradient and update the discriminator parameters:\n",
    "        optimizer_dis.zero_grad()\n",
    "        loss_dis.backward()\n",
    "        optimizer_dis.step()\n",
    "        losses_dis.append(loss_dis.item())\n",
    "        \n",
    "        if batch_idx % print_period == 0:\n",
    "            print('ETA: %.5f, epoch: %d/%d, batch: %d/%d, loss_gen: %.3f, loss_dis: %.3f'\n",
    "              % (time.time() - batch_t0, i+1, epochs, batch_idx, len(dataloader), torch.mean(torch.FloatTensor(losses_gen)), torch.mean(torch.FloatTensor(losses_dis)))\n",
    "            )\n",
    "            \n",
    "    print('ETA: %.5f' % (time.time() - t0), end='\\n\\n')   "
   ]
  },
  {
   "cell_type": "markdown",
   "id": "grand-surge",
   "metadata": {},
   "source": [
    "### Plot the losses"
   ]
  },
  {
   "cell_type": "code",
   "execution_count": null,
   "id": "minus-register",
   "metadata": {},
   "outputs": [],
   "source": [
    "def running_mean(data, periods=10):\n",
    "    # from https://github.com/artemsavkin/latent3d/blob/master/pcl_latent3d_shapenet.ipynb\n",
    "    weights = np.ones(periods) / periods\n",
    "    return np.convolve(data, weights, mode='valid')\n",
    "\n",
    "rm_losses_gen = running_mean(np.asarray(losses_gen))\n",
    "rm_losses_dis = running_mean(np.asarray(losses_dis))\n",
    "\n",
    "\n",
    "plt.plot(range(0, len(rm_losses_gen)), rm_losses_gen, 'r-', label='Generator')\n",
    "plt.plot(range(0, len(rm_losses_dis)), rm_losses_dis, 'b-', label='Discriminator')\n",
    "plt.gca().patch.set_alpha(0)\n",
    "plt.title('r-GAN Losses')\n",
    "plt.legend()\n",
    "plt.show()"
   ]
  },
  {
   "cell_type": "markdown",
   "id": "listed-indonesian",
   "metadata": {},
   "source": [
    "### Generate samples"
   ]
  },
  {
   "cell_type": "code",
   "execution_count": null,
   "id": "blessed-diversity",
   "metadata": {
    "scrolled": false
   },
   "outputs": [],
   "source": [
    "batch_idx, batch_data = next(enumerate(dataloader))\n",
    "x = batch_data.pos.reshape(batch_size, n_points, 3).transpose(2, 1).cpu().detach().numpy()\n",
    "\n",
    "# sample the noise vector:\n",
    "z = torch.Tensor(4, raw_gan_gen_input_dim).normal_(mu, sigma).to(device)\n",
    "gen_samples = raw_gan_gen(z).cpu().detach().numpy()\n",
    "\n",
    "print(x.shape)\n",
    "print(gen_samples.shape)\n",
    "\n",
    "visualize_generated_samples([x[0].transpose(1,0), gen_samples[0].transpose(1,0)])\n",
    "# visualize_generated_samples([x[1].transpose(1,0), gen_samples[1].transpose(1,0)])\n",
    "# visualize_generated_samples([x[2].transpose(1,0), gen_samples[2].transpose(1,0)])\n",
    "# visualize_generated_samples([x[3].transpose(1,0), gen_samples[3].transpose(1,0)])"
   ]
  },
  {
   "cell_type": "code",
   "execution_count": null,
   "id": "advisory-daniel",
   "metadata": {},
   "outputs": [],
   "source": [
    "del batch_data"
   ]
  },
  {
   "cell_type": "code",
   "execution_count": null,
   "id": "bridal-morning",
   "metadata": {},
   "outputs": [],
   "source": []
  }
 ],
 "metadata": {
  "kernelspec": {
   "display_name": "Python 3",
   "language": "python",
   "name": "python3"
  },
  "language_info": {
   "codemirror_mode": {
    "name": "ipython",
    "version": 3
   },
   "file_extension": ".py",
   "mimetype": "text/x-python",
   "name": "python",
   "nbconvert_exporter": "python",
   "pygments_lexer": "ipython3",
   "version": "3.7.10"
  }
 },
 "nbformat": 4,
 "nbformat_minor": 5
}
